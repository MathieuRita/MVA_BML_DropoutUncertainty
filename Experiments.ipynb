{
 "cells": [
  {
   "cell_type": "markdown",
   "metadata": {},
   "source": [
    "# <div align=\"center\"> Experiments </div>"
   ]
  },
  {
   "cell_type": "markdown",
   "metadata": {},
   "source": [
    "______________\n",
    "\n",
    "The notebook is organized as followed:\n",
    "\n",
    "- **Part 1 :** Run an experiment: detailed tutorial to run an experiment\n",
    "\n",
    "- **Part 2 :** Evaluating the method for regression tasks\n",
    "\n",
    "- **Part 3 :** Evaluating the method for classification tasks\n",
    "\n",
    "- **Part 4 :** Additional experiments\n",
    "______________"
   ]
  },
  {
   "cell_type": "code",
   "execution_count": 1,
   "metadata": {},
   "outputs": [],
   "source": [
    "from utils import *\n",
    "from net_bml import Net\n",
    "%matplotlib inline\n",
    "import matplotlib.pyplot as plt\n",
    "from scipy.special import logsumexp\n",
    "import pylab"
   ]
  },
  {
   "cell_type": "markdown",
   "metadata": {},
   "source": [
    "# Part 1: Run an experiment (tutorial)"
   ]
  },
  {
   "cell_type": "markdown",
   "metadata": {},
   "source": [
    "## 1. Choose a dataset"
   ]
  },
  {
   "cell_type": "markdown",
   "metadata": {},
   "source": [
    "Choose the data between the following dataset:\n",
    "\n",
    "Regression problems:\n",
    "\n",
    "- `bostonHousing`\n",
    "- `energy`\n",
    "- `naval-propulsion-plant`\n",
    "- `power-plant`\n",
    "- `wine-quality-red`\n",
    "\n",
    "Classification problems:\n",
    "\n",
    "- `MNIST`\n",
    "\n",
    "Then select the batch sizes (`batch_size_train`, `batch_size_test`) used for the next training"
   ]
  },
  {
   "cell_type": "code",
   "execution_count": 168,
   "metadata": {},
   "outputs": [
    {
     "name": "stdout",
     "output_type": "stream",
     "text": [
      "The shape of the training set is:\n",
      "torch.Size([455, 13])\n",
      "The shape of the testing set is:\n",
      "torch.Size([51, 13])\n"
     ]
    }
   ],
   "source": [
    "data_name = \"bostonHousing\"\n",
    "batch_size_train= 32\n",
    "batch_size_test= 32\n",
    "\n",
    "training_set, testing_set, train_loader, test_loader, x_mean, x_std, y_mean, y_std = load_data(data_name=data_name,\n",
    "                                                                                                          batch_size_train=batch_size_train, \n",
    "                                                                                                          batch_size_test = batch_size_test,\n",
    "                                                                                                          normalize=True)\n",
    "\n",
    "print(\"The shape of the training set is:\")\n",
    "print(training_set.data.size())\n",
    "print(\"The shape of the testing set is:\")\n",
    "print(testing_set.data.size())"
   ]
  },
  {
   "cell_type": "markdown",
   "metadata": {},
   "source": [
    "## 2. Create the network"
   ]
  },
  {
   "cell_type": "markdown",
   "metadata": {},
   "source": [
    "First let's choose a network architecture. We only study here linear layers (ReLu activation) separated by a dropout layer. The weights $W_{i}$ and bias $b_{i}$ of the linear layers are regularized ($L_2$) with the regularization parameter $\\lambda$.\n",
    "\n",
    "You have to set the following parameters:\n",
    "- the number of input data $N$ (eg.`N=1000`)\n",
    "- the number of input features $n_{in}$ (eg. `n_in=784`)\n",
    "- the number of classes $n_{out}$ (eg. `n_out=10`)\n",
    "- number of layers and neurons (eg. `layer_sizes=[256,256,256]`)\n",
    "- the dropout rate $p$ (eg. `dropout_rate=0.5`)\n",
    "- $\\tau$ (eg. `tau=0.5`)\n",
    "\n",
    "Please note the regularization parameter $\\lambda$ is compute according to the following formula:\n",
    "\n",
    "\n",
    "<div align=\"center\"> $\\lambda=\\frac{pl^{2}}{2N\\tau}$ </div>\n",
    "    \n",
    "where $l$ is the prior-length scale. It is arbitrary set of `1e-2`"
   ]
  },
  {
   "cell_type": "code",
   "execution_count": 169,
   "metadata": {},
   "outputs": [
    {
     "name": "stdout",
     "output_type": "stream",
     "text": [
      "Net(\n",
      "  (model): Sequential(\n",
      "    (Dropout0): Dropout(p=0.005, inplace=False)\n",
      "    (Linear0): Linear(in_features=13, out_features=5000, bias=True)\n",
      "    (Relu): ReLU()\n",
      "    (Dropout1): Dropout(p=0.005, inplace=False)\n",
      "    (Linear1): Linear(in_features=5000, out_features=1000, bias=True)\n",
      "    (Dropout2): Dropout(p=0.005, inplace=False)\n",
      "    (Linear2): Linear(in_features=1000, out_features=1, bias=True)\n",
      "  )\n",
      ")\n"
     ]
    }
   ],
   "source": [
    "# Set the parameters\n",
    "N=training_set.data.size()[0]\n",
    "n_in=training_set.data.size()[1]\n",
    "n_out=1\n",
    "layer_sizes=[5000,1000]\n",
    "dropout_rate= 0.005 \n",
    "tau=0.1\n",
    "l=1e-2\n",
    "lbda = l**2 * (1 - dropout_rate) / (2. * N * tau)\n",
    "\n",
    "# Create the network\n",
    "network = Net(N=N,\n",
    "              n_in=n_in,\n",
    "              n_out=n_out,\n",
    "              layer_sizes=layer_sizes,\n",
    "              dropout_rate=dropout_rate,\n",
    "              tau=tau)#.float()\n",
    "\n",
    "print(network)"
   ]
  },
  {
   "cell_type": "markdown",
   "metadata": {},
   "source": [
    "## 3. Train the model"
   ]
  },
  {
   "cell_type": "markdown",
   "metadata": {},
   "source": [
    "Here are the useful functions to run the training.\n",
    "\n",
    "You have to choose the type of the problem, either classification or regression:\n",
    "- `problem=\"classification\"` or `problem=regression`\n",
    "\n",
    "It will define the loss to use, either NLL for classification or RMSE for regression.\n",
    "\n",
    "Then, you have to choose the parameters of the training:\n",
    "- number of epochs (eg. `n_epochs=10`)\n",
    "- learning rate (eg. `learning_rate=0.01`)\n",
    "- momentum (eg. `momentum=0.5`)"
   ]
  },
  {
   "cell_type": "code",
   "execution_count": 170,
   "metadata": {},
   "outputs": [],
   "source": [
    "# Type of the problem\n",
    "problem=\"regression\"\n",
    "\n",
    "# Training parameters\n",
    "n_epochs = 1\n",
    "learning_rate = 1e-6\n",
    "momentum = 0.5\n",
    "\n",
    "optimizer = optim.Adam(network.parameters(), \n",
    "                      lr=learning_rate,\n",
    "                     weight_decay=lbda)"
   ]
  },
  {
   "cell_type": "code",
   "execution_count": 171,
   "metadata": {},
   "outputs": [],
   "source": [
    "train_losses = []\n",
    "train_counter = []\n",
    "test_losses = []\n",
    "test_counter = [i*len(train_loader.dataset) for i in range(n_epochs + 1)]\n",
    "\n",
    "def train(network,epoch,aff=False):\n",
    "    network.train()\n",
    "    for batch_idx, (data, target) in enumerate(train_loader):\n",
    "        \n",
    "        optimizer.zero_grad()\n",
    "        \n",
    "\n",
    "        if data_name==\"MNIST\":\n",
    "            data=data.squeeze(dim=1)\n",
    "            data=data.flatten(1,2)\n",
    "            \n",
    "        output = network(data)\n",
    "        \n",
    "        if problem==\"classification\":\n",
    "            loss = F.nll_loss(output, target)\n",
    "        if problem==\"regression\":\n",
    "            output=output.squeeze(1)\n",
    "            loss = F.mse_loss(output,target,reduction=\"mean\")\n",
    "            #print(loss)\n",
    "            \n",
    "            \n",
    "        loss.backward()\n",
    "        optimizer.step()\n",
    "        if batch_idx % 10 == 0:\n",
    "            if aff:\n",
    "                print('Train Epoch: {} [{}/{} ({:.0f}%)]\\tLoss: {:.6f}'.format(\n",
    "                    epoch, batch_idx * len(data), len(train_loader.dataset),\n",
    "                    100. * batch_idx / len(train_loader), loss.item()))\n",
    "            train_losses.append(loss.item())\n",
    "            train_counter.append((batch_idx*64) + ((epoch-1)*len(train_loader.dataset)))\n",
    "\n",
    "def test(network,aff=False):\n",
    "    #network.eval()\n",
    "    test_loss = 0\n",
    "    correct = 0\n",
    "    with torch.no_grad():\n",
    "        for data, target in test_loader:\n",
    "            \n",
    "            if data_name==\"MNIST\":\n",
    "                data=data.squeeze(dim=1)\n",
    "                data=data.flatten(1,2)\n",
    "                \n",
    "            output = network(data)\n",
    "            \n",
    "            if problem==\"classification\":\n",
    "                test_loss += F.nll_loss(output, target, size_average=False).item()\n",
    "                pred = output.data.max(1, keepdim=True)[1]\n",
    "                correct += pred.eq(target.data.view_as(pred)).sum()\n",
    "            if problem==\"regression\":\n",
    "                output=output.squeeze(1)\n",
    "                test_loss += F.mse_loss(output,target,reduction=\"mean\").item()\n",
    "                \n",
    "    test_loss /= len(test_loader.dataset)\n",
    "    test_losses.append(test_loss)\n",
    "    if aff:\n",
    "        if problem==\"classification\":\n",
    "            print('\\nTest set: Avg. loss: {:.4f}, Accuracy: {}/{} ({:.0f}%)\\n'.format(\n",
    "                test_loss, correct, len(test_loader.dataset),\n",
    "                100. * correct / len(test_loader.dataset)))\n",
    "        if problem==\"regression\":\n",
    "            print('\\nTest set: Avg. loss: {:.4f}\\n'.format(test_loss))\n"
   ]
  },
  {
   "cell_type": "markdown",
   "metadata": {},
   "source": [
    "Then let's run the training:"
   ]
  },
  {
   "cell_type": "code",
   "execution_count": 172,
   "metadata": {
    "scrolled": true
   },
   "outputs": [
    {
     "name": "stdout",
     "output_type": "stream",
     "text": [
      "Train Epoch: 1 [0/455 (0%)]\tLoss: 0.836902\n",
      "Train Epoch: 1 [320/455 (67%)]\tLoss: 0.734232\n",
      "\n",
      "Test set: Avg. loss: 0.0264\n",
      "\n",
      "Train Epoch: 2 [0/455 (0%)]\tLoss: 0.693336\n",
      "Train Epoch: 2 [320/455 (67%)]\tLoss: 0.540062\n",
      "\n",
      "Test set: Avg. loss: 0.0205\n",
      "\n",
      "Train Epoch: 3 [0/455 (0%)]\tLoss: 0.590523\n",
      "Train Epoch: 3 [320/455 (67%)]\tLoss: 0.398566\n",
      "\n",
      "Test set: Avg. loss: 0.0162\n",
      "\n",
      "Train Epoch: 4 [0/455 (0%)]\tLoss: 0.518835\n",
      "Train Epoch: 4 [320/455 (67%)]\tLoss: 0.318779\n",
      "\n",
      "Test set: Avg. loss: 0.0128\n",
      "\n",
      "Train Epoch: 5 [0/455 (0%)]\tLoss: 0.457957\n",
      "Train Epoch: 5 [320/455 (67%)]\tLoss: 0.276379\n",
      "\n",
      "Test set: Avg. loss: 0.0105\n",
      "\n",
      "Train Epoch: 6 [0/455 (0%)]\tLoss: 0.431974\n",
      "Train Epoch: 6 [320/455 (67%)]\tLoss: 0.237845\n",
      "\n",
      "Test set: Avg. loss: 0.0092\n",
      "\n",
      "Train Epoch: 7 [0/455 (0%)]\tLoss: 0.406743\n",
      "Train Epoch: 7 [320/455 (67%)]\tLoss: 0.212028\n",
      "\n",
      "Test set: Avg. loss: 0.0081\n",
      "\n",
      "Train Epoch: 8 [0/455 (0%)]\tLoss: 0.379751\n",
      "Train Epoch: 8 [320/455 (67%)]\tLoss: 0.202675\n",
      "\n",
      "Test set: Avg. loss: 0.0071\n",
      "\n",
      "Train Epoch: 9 [0/455 (0%)]\tLoss: 0.350066\n",
      "Train Epoch: 9 [320/455 (67%)]\tLoss: 0.186851\n",
      "\n",
      "Test set: Avg. loss: 0.0067\n",
      "\n",
      "Train Epoch: 10 [0/455 (0%)]\tLoss: 0.322017\n",
      "Train Epoch: 10 [320/455 (67%)]\tLoss: 0.179572\n",
      "\n",
      "Test set: Avg. loss: 0.0066\n",
      "\n"
     ]
    }
   ],
   "source": [
    "n_epochs=10\n",
    "for epoch in range(1, n_epochs + 1):\n",
    "    train(network,epoch,aff=True)\n",
    "    test(network,aff=True)"
   ]
  },
  {
   "cell_type": "code",
   "execution_count": 11,
   "metadata": {},
   "outputs": [
    {
     "name": "stdout",
     "output_type": "stream",
     "text": [
      "tensor([-0.4273], grad_fn=<AddBackward0>)\n",
      "tensor(-0.6478)\n",
      "tensor([0.4599], grad_fn=<AddBackward0>)\n",
      "tensor(0.1172)\n",
      "tensor([-0.2662], grad_fn=<AddBackward0>)\n",
      "tensor(-0.6075)\n",
      "tensor([-0.6563], grad_fn=<AddBackward0>)\n",
      "tensor(-0.6894)\n",
      "tensor([0.0563], grad_fn=<AddBackward0>)\n",
      "tensor(-0.4490)\n",
      "tensor([0.4744], grad_fn=<AddBackward0>)\n",
      "tensor(0.2474)\n",
      "tensor([-0.6937], grad_fn=<AddBackward0>)\n",
      "tensor(-0.6782)\n",
      "tensor([-0.3629], grad_fn=<AddBackward0>)\n",
      "tensor(-0.6452)\n",
      "tensor([0.1290], grad_fn=<AddBackward0>)\n",
      "tensor(-0.3584)\n",
      "tensor([-0.4806], grad_fn=<AddBackward0>)\n",
      "tensor(-0.6505)\n"
     ]
    }
   ],
   "source": [
    "for i in range(10):\n",
    "    print(network(training_set.data[i]))\n",
    "    print(training_set.targets[i])"
   ]
  },
  {
   "cell_type": "markdown",
   "metadata": {},
   "source": [
    "## 4. Perform the prediction"
   ]
  },
  {
   "cell_type": "code",
   "execution_count": 31,
   "metadata": {
    "scrolled": false
   },
   "outputs": [
    {
     "name": "stdout",
     "output_type": "stream",
     "text": [
      "RMSE Standard pred\n",
      "9.984323802930161\n",
      "RMSE MC pred\n",
      "9.92241593936328\n",
      "LL\n",
      "-6.8250685\n"
     ]
    },
    {
     "data": {
      "text/plain": [
       "(9.984323802930161, 9.92241593936328, -6.8250685)"
      ]
     },
     "execution_count": 31,
     "metadata": {},
     "output_type": "execute_result"
    }
   ],
   "source": [
    "def prediction(network,testing_set,normalize=True):\n",
    "\n",
    "    #network.eval()\n",
    "    with torch.no_grad():\n",
    "        if normalize:\n",
    "            standard_pred = y_std*network(testing_set.data).squeeze(dim=1)+y_mean\n",
    "        else:\n",
    "            standard_pred = network(testing_set.data)\n",
    "\n",
    "    rmse_standard_pred = np.mean((y_std*testing_set.targets.numpy()+y_mean - standard_pred.numpy())**2.)**0.5\n",
    "    \n",
    "    T = 10\n",
    "\n",
    "    Yt_hat=[]\n",
    "    for _ in range(T):\n",
    "        Yt_hat.append(network(testing_set.data).squeeze(dim=1).data.numpy())\n",
    "        #optimizer.step()\n",
    "    Yt_hat=np.array(Yt_hat)\n",
    "    if normalize:\n",
    "        Yt_hat = Yt_hat * y_std + y_mean\n",
    "    MC_pred = np.mean(Yt_hat, 0)\n",
    "    rmse = np.mean((testing_set.targets.numpy()*y_std + y_mean - MC_pred)**2.)**0.5\n",
    "\n",
    "    # We compute the test log-likelihood\n",
    "    ll = (logsumexp(-0.5 * tau * (testing_set.targets.numpy()* y_std + y_mean - Yt_hat)**2., 0) - np.log(T)\n",
    "        - 0.5*np.log(2*np.pi) + 0.5*np.log(tau))\n",
    "    test_ll = np.mean(ll)\n",
    "\n",
    "    # We are done!\n",
    "    print(\"RMSE Standard pred\")\n",
    "    print(rmse_standard_pred)\n",
    "    print(\"RMSE MC pred\")\n",
    "    print(rmse)\n",
    "    print(\"LL\")\n",
    "    print(test_ll)\n",
    "    \n",
    "    return rmse_standard_pred, rmse, test_ll\n",
    "\n",
    "prediction(network,testing_set,normalize=True)"
   ]
  },
  {
   "cell_type": "markdown",
   "metadata": {},
   "source": [
    "# Part 2 - Evaluating the method for regression tasks"
   ]
  },
  {
   "cell_type": "markdown",
   "metadata": {},
   "source": [
    "To evaluate the dropout, we compute RMSE and predictive log-likelihood on 5 different dataset. This is a replication of the experiment made in Hernandez-Lobato, J M and Adams, R P. Probabilistic ´backpropagation for scalable learning of bayesian neural networks. In ICML-15, 2015.\n",
    "\n",
    "The idea is to compare the uncertainty quality obtained from aof dropout to that of specialised methods developed to capture uncertainty on very basic examples. To do so, we used multi-layer perceptrons with two layers and 5 simple datasets built for regression: `bostonHousing`, `energy`, `naval-propulsion-plant`, `power-plant`, `wine-quality-red`. Then, we perform a grid search on $\\tau$ and the dropout_rate in order to find the best set of parameters. In the end, we keep the best values of RMSE and LL found.\n",
    "\n",
    "**Technical remark:** before running the following cell, we ran the training for each dataset in order to find reasonable values of learning rate and number of epochs to get the convergence."
   ]
  },
  {
   "cell_type": "code",
   "execution_count": 32,
   "metadata": {},
   "outputs": [
    {
     "name": "stdout",
     "output_type": "stream",
     "text": [
      "Dataset : bostonHousing \n",
      "\n",
      "Number of epochs=80 / l_rate=1e-06\n",
      "tau = 0.005 ; dropout_rate = 0.1\n",
      "Training\n",
      "RMSE Standard pred\n",
      "3.177891479435054\n",
      "RMSE MC pred\n",
      "3.157618462038541\n",
      "LL\n",
      "-2.5690389\n",
      "\n",
      "\n",
      "tau = 0.005 ; dropout_rate = 0.2\n",
      "Training\n",
      "RMSE Standard pred\n",
      "3.118499862027467\n",
      "RMSE MC pred\n",
      "3.1328478119113377\n",
      "LL\n",
      "-2.6907983\n",
      "\n",
      "\n",
      "tau = 0.01 ; dropout_rate = 0.1\n",
      "Training\n",
      "RMSE Standard pred\n",
      "3.035180915329717\n",
      "RMSE MC pred\n",
      "3.02069835142032\n",
      "LL\n",
      "-2.5231209\n",
      "\n",
      "\n",
      "tau = 0.01 ; dropout_rate = 0.2\n",
      "Training\n",
      "RMSE Standard pred\n",
      "3.142850324697654\n",
      "RMSE MC pred\n",
      "3.1632698479067938\n",
      "LL\n",
      "-2.728122\n",
      "\n",
      "\n",
      "tau = 0.1 ; dropout_rate = 0.1\n",
      "Training\n",
      "RMSE Standard pred\n",
      "4.19420872096799\n",
      "RMSE MC pred\n",
      "2.8526746279516324\n",
      "LL\n",
      "-2.4934983\n",
      "\n",
      "\n",
      "tau = 0.1 ; dropout_rate = 0.2\n",
      "Training\n",
      "RMSE Standard pred\n",
      "3.7200559999496283\n",
      "RMSE MC pred\n",
      "3.0610693879312003\n",
      "LL\n",
      "-2.536773\n",
      "\n",
      "\n",
      "Dataset : energy \n",
      "\n",
      "Number of epochs=20 / l_rate=1e-05\n",
      "tau = 0.005 ; dropout_rate = 0.1\n",
      "Training\n",
      "RMSE Standard pred\n",
      "2.624294549517907\n",
      "RMSE MC pred\n",
      "2.6233059094105178\n",
      "LL\n",
      "-2.4184387\n",
      "\n",
      "\n",
      "tau = 0.005 ; dropout_rate = 0.2\n",
      "Training\n",
      "RMSE Standard pred\n",
      "2.6093110402200534\n",
      "RMSE MC pred\n",
      "2.579249743560042\n",
      "LL\n",
      "-2.394316\n",
      "\n",
      "\n",
      "tau = 0.01 ; dropout_rate = 0.1\n",
      "Training\n",
      "RMSE Standard pred\n",
      "2.66202984451084\n",
      "RMSE MC pred\n",
      "2.502267762649244\n",
      "LL\n",
      "-2.3961184\n",
      "\n",
      "\n",
      "tau = 0.01 ; dropout_rate = 0.2\n",
      "Training\n",
      "RMSE Standard pred\n",
      "2.7366357667164314\n",
      "RMSE MC pred\n",
      "2.5890969512986333\n",
      "LL\n",
      "-2.3885224\n",
      "\n",
      "\n",
      "tau = 0.1 ; dropout_rate = 0.1\n",
      "Training\n",
      "RMSE Standard pred\n",
      "3.2524264154459552\n",
      "RMSE MC pred\n",
      "2.7283667248651824\n",
      "LL\n",
      "-2.5185966\n",
      "\n",
      "\n",
      "tau = 0.1 ; dropout_rate = 0.2\n",
      "Training\n",
      "RMSE Standard pred\n",
      "3.3537128370503035\n",
      "RMSE MC pred\n",
      "2.5686557613266388\n",
      "LL\n",
      "-2.3998299\n",
      "\n",
      "\n",
      "Dataset : naval-propulsion-plant \n",
      "\n",
      "Number of epochs=2 / l_rate=0.01\n",
      "tau = 0.005 ; dropout_rate = 0.1\n",
      "Training\n",
      "RMSE Standard pred\n",
      "0.009967230566082999\n",
      "RMSE MC pred\n",
      "0.009072376302258562\n",
      "LL\n",
      "-2.0702362\n",
      "\n",
      "\n",
      "tau = 0.005 ; dropout_rate = 0.2\n",
      "Training\n",
      "RMSE Standard pred\n",
      "0.010996076113680794\n",
      "RMSE MC pred\n",
      "0.00990926375496297\n",
      "LL\n",
      "-1.7236696\n",
      "\n",
      "\n",
      "tau = 0.01 ; dropout_rate = 0.1\n",
      "Training\n",
      "RMSE Standard pred\n",
      "0.011020821490617375\n",
      "RMSE MC pred\n",
      "0.009668106577232766\n",
      "LL\n",
      "-2.0702372\n",
      "\n",
      "\n",
      "tau = 0.01 ; dropout_rate = 0.2\n",
      "Training\n",
      "RMSE Standard pred\n",
      "0.011730254258412452\n",
      "RMSE MC pred\n",
      "0.010340670163701592\n",
      "LL\n",
      "-1.7236705\n",
      "\n",
      "\n",
      "tau = 0.1 ; dropout_rate = 0.1\n",
      "Training\n",
      "RMSE Standard pred\n",
      "0.014512311723076769\n",
      "RMSE MC pred\n",
      "0.014212260696049164\n",
      "LL\n",
      "-2.0702415\n",
      "\n",
      "\n",
      "tau = 0.1 ; dropout_rate = 0.2\n",
      "Training\n",
      "RMSE Standard pred\n",
      "0.014426648953552\n",
      "RMSE MC pred\n",
      "0.014334622784565914\n",
      "LL\n",
      "-1.7236787\n",
      "\n",
      "\n",
      "Dataset : power-plant \n",
      "\n",
      "Number of epochs=4 / l_rate=0.01\n",
      "tau = 0.005 ; dropout_rate = 0.1\n",
      "Training\n",
      "RMSE Standard pred\n",
      "4.705972918171904\n",
      "RMSE MC pred\n",
      "4.645201613010214\n",
      "LL\n",
      "-3.1212351\n",
      "\n",
      "\n",
      "tau = 0.005 ; dropout_rate = 0.2\n",
      "Training\n",
      "RMSE Standard pred\n",
      "4.754008759872075\n",
      "RMSE MC pred\n",
      "4.68395984481943\n",
      "LL\n",
      "-3.8451753\n",
      "\n",
      "\n",
      "tau = 0.01 ; dropout_rate = 0.1\n",
      "Training\n",
      "RMSE Standard pred\n",
      "5.09114092137977\n",
      "RMSE MC pred\n",
      "4.914219306421068\n",
      "LL\n",
      "-3.2453723\n",
      "\n",
      "\n",
      "tau = 0.01 ; dropout_rate = 0.2\n",
      "Training\n",
      "RMSE Standard pred\n",
      "4.6063522513853385\n",
      "RMSE MC pred\n",
      "4.446209594096827\n",
      "LL\n",
      "-3.636855\n",
      "\n",
      "\n",
      "tau = 0.1 ; dropout_rate = 0.1\n",
      "Training\n",
      "RMSE Standard pred\n",
      "6.4442316802115505\n",
      "RMSE MC pred\n",
      "5.268466805192664\n",
      "LL\n",
      "-3.2486176\n",
      "\n",
      "\n",
      "tau = 0.1 ; dropout_rate = 0.2\n",
      "Training\n",
      "RMSE Standard pred\n",
      "6.011462071660577\n",
      "RMSE MC pred\n",
      "5.001929673717477\n",
      "LL\n",
      "-3.3983293\n",
      "\n",
      "\n",
      "Dataset : wine-quality-red \n",
      "\n",
      "Number of epochs=10 / l_rate=1e-05\n",
      "tau = 0.005 ; dropout_rate = 0.1\n",
      "Training\n",
      "RMSE Standard pred\n",
      "0.643898832838017\n",
      "RMSE MC pred\n",
      "0.6383802115438841\n",
      "LL\n",
      "-2.0906432\n",
      "\n",
      "\n",
      "tau = 0.005 ; dropout_rate = 0.2\n",
      "Training\n",
      "RMSE Standard pred\n",
      "0.6324777777541267\n",
      "RMSE MC pred\n",
      "0.634146215027189\n",
      "LL\n",
      "-1.7639668\n",
      "\n",
      "\n",
      "tau = 0.01 ; dropout_rate = 0.1\n",
      "Training\n",
      "RMSE Standard pred\n",
      "0.6322602346443396\n",
      "RMSE MC pred\n",
      "0.6359798379812199\n",
      "LL\n",
      "-2.0905476\n",
      "\n",
      "\n",
      "tau = 0.01 ; dropout_rate = 0.2\n",
      "Training\n",
      "RMSE Standard pred\n",
      "0.6357803684846323\n",
      "RMSE MC pred\n",
      "0.6377944518717324\n",
      "LL\n",
      "-1.7644485\n",
      "\n",
      "\n",
      "tau = 0.1 ; dropout_rate = 0.1\n",
      "Training\n",
      "RMSE Standard pred\n",
      "0.6513095813082193\n",
      "RMSE MC pred\n",
      "0.6428072442640569\n",
      "LL\n",
      "-2.0916686\n",
      "\n",
      "\n",
      "tau = 0.1 ; dropout_rate = 0.2\n",
      "Training\n",
      "RMSE Standard pred\n",
      "0.6720224928313044\n",
      "RMSE MC pred\n",
      "0.6373694435770697\n",
      "LL\n",
      "-1.7657465\n",
      "\n",
      "\n"
     ]
    }
   ],
   "source": [
    "n_epochss=[80, 20,2,4,10]\n",
    "l_rates=[1e-6,1e-5,1e-2,1e-2,1e-5]\n",
    "\n",
    "for j,data_name in enumerate([\"bostonHousing\",\"energy\",\"naval-propulsion-plant\",\n",
    "                              \"power-plant\",\"wine-quality-red\"]):\n",
    "    \n",
    "    print(\"Dataset : {} \\n\".format(data_name))\n",
    "    print(\"Number of epochs={} / l_rate={}\".format(n_epochss[j],l_rates[j]))\n",
    "    \n",
    "    batch_size_train= 32\n",
    "    batch_size_test= 32\n",
    "\n",
    "    training_set, testing_set, train_loader, test_loader, x_mean, x_std, y_mean, y_std = load_data(data_name=data_name,\n",
    "                                                                                                              batch_size_train=batch_size_train, \n",
    "                                                                                                              batch_size_test = batch_size_test,\n",
    "                                                                                                              normalize=True)\n",
    "\n",
    "    for dropout_rate in [0.005, 0.01, 0.1]:\n",
    "        for tau in [0.1, 0.2]:\n",
    "            print(\"tau = {} ; dropout_rate = {}\".format(dropout_rate,tau))\n",
    "            # Set the parameters\n",
    "            N=training_set.data.size()[0]\n",
    "            n_in=training_set.data.size()[1]\n",
    "            n_out=1\n",
    "            layer_sizes=[5000,100]\n",
    "            l=1e-2\n",
    "            lbda = (dropout_rate*l**2)/(2*N*tau)\n",
    "\n",
    "            # Create the network\n",
    "            network = Net(N=N,\n",
    "                          n_in=n_in,\n",
    "                          n_out=n_out,\n",
    "                          layer_sizes=layer_sizes,\n",
    "                          dropout_rate=dropout_rate,\n",
    "                          tau=tau)\n",
    "\n",
    "            # Type of the problem\n",
    "            problem=\"regression\"\n",
    "\n",
    "            # Training parameters\n",
    "            n_epochs = n_epochss[j]\n",
    "            learning_rate = l_rates[j]\n",
    "            momentum = 0.5\n",
    "\n",
    "            optimizer = optim.Adam(network.parameters(), \n",
    "                                  lr=learning_rate,\n",
    "                                 weight_decay=lbda)\n",
    "\n",
    "            train_losses = []\n",
    "            train_counter = []\n",
    "            test_losses = []\n",
    "            test_counter = [i*len(train_loader.dataset) for i in range(n_epochs + 1)]\n",
    "\n",
    "            print(\"Training\")\n",
    "            for epoch in range(1, n_epochs + 1):\n",
    "                train(network,epoch)\n",
    "                test(network)\n",
    "\n",
    "            prediction(network, testing_set)\n",
    "            print(\"\\n\")"
   ]
  },
  {
   "cell_type": "markdown",
   "metadata": {},
   "source": [
    "Here is a summary of the values of RMSE and LL we get with the dropout method. We compare it to the values obtained in the paper and those of other methods. The first value indicated is the RMSE (we want it to be the smallest), the second the LL (we want it to be the highest) :\n",
    "\n",
    "| Dataset        | Dropout (our implementation) | Dropout (paper result)  | VI             | PB             |\n",
    "| -------------  |:----------------------------:| :----------------------:| :-------------:| :-------------:|\n",
    "| BostonHousing  | 2.85 / -2.49                 |  2.97 /-2.46            |  4.32 / -2.90  |3.01 / -2.57    |\n",
    "| energy         | 2.56 / -2.39                 |  1.66 / -1.99           |  2.65 / -2.39  |  1.80 / -2.39  |\n",
    "| naval          | 0.01 / -1.72                 |  0.01 / 3.80            |  0.01 / 3.73   |  0.01 /3.73    |\n",
    "| power-plant    | 4.4 / -3.63                  |  4.02 / -2.80           |  4.33 / -2.89  |   4.12 / -2.84 |\n",
    "| wine-quality-rd| 0.63 / -1.76                 |  0.62 / -0.93           |  0.65 / -0.98  | 0.64 / -0.97   |\n",
    "\n",
    "__Comments :__\n",
    "\n",
    "- As we can see, we find results in the magnitude. The results of the paper seems reproductibe. Nevertheless, in some cases the results we find are not as good as those presented in the paper. It may be due to the fact that we can get a better convergence. Moreover, at it is suggested by the author, due to the small sizes of the datasets splitting the data differently could lead to different results. It may explain why our results are slightly different.\n",
    "\n",
    "- Here we merely wanted to see whether the results were reproductible for an home-made implementation. Therefore, we ran the experiment for one splitting, that is why our results are not provided with error intervals."
   ]
  },
  {
   "cell_type": "markdown",
   "metadata": {},
   "source": [
    "# Part 3 - Evaluation for a classification task"
   ]
  },
  {
   "cell_type": "markdown",
   "metadata": {},
   "source": [
    "Now let's assess the model classification confidence with the MNIST dataset. Once again, we train a multi-layer perceptron (MNIST data are flatten) with dropout between each layer. We used the settings of the paper and therefore chose a dropout probability of 0.5."
   ]
  },
  {
   "cell_type": "code",
   "execution_count": 13,
   "metadata": {},
   "outputs": [
    {
     "name": "stdout",
     "output_type": "stream",
     "text": [
      "Train Epoch: 1 [0/60000 (0%)]\tLoss: 2.316645\n",
      "Train Epoch: 1 [1280/60000 (2%)]\tLoss: 1.619254\n",
      "Train Epoch: 1 [2560/60000 (4%)]\tLoss: 1.011961\n",
      "Train Epoch: 1 [3840/60000 (6%)]\tLoss: 0.836688\n",
      "Train Epoch: 1 [5120/60000 (9%)]\tLoss: 0.588995\n",
      "Train Epoch: 1 [6400/60000 (11%)]\tLoss: 0.664449\n",
      "Train Epoch: 1 [7680/60000 (13%)]\tLoss: 0.808232\n",
      "Train Epoch: 1 [8960/60000 (15%)]\tLoss: 0.632259\n",
      "Train Epoch: 1 [10240/60000 (17%)]\tLoss: 0.629676\n",
      "Train Epoch: 1 [11520/60000 (19%)]\tLoss: 0.447476\n",
      "Train Epoch: 1 [12800/60000 (21%)]\tLoss: 0.558832\n",
      "Train Epoch: 1 [14080/60000 (23%)]\tLoss: 0.513071\n",
      "Train Epoch: 1 [15360/60000 (26%)]\tLoss: 0.496068\n",
      "Train Epoch: 1 [16640/60000 (28%)]\tLoss: 0.401862\n",
      "Train Epoch: 1 [17920/60000 (30%)]\tLoss: 0.433291\n",
      "Train Epoch: 1 [19200/60000 (32%)]\tLoss: 0.345285\n",
      "Train Epoch: 1 [20480/60000 (34%)]\tLoss: 0.563680\n",
      "Train Epoch: 1 [21760/60000 (36%)]\tLoss: 0.479602\n",
      "Train Epoch: 1 [23040/60000 (38%)]\tLoss: 0.462000\n",
      "Train Epoch: 1 [24320/60000 (41%)]\tLoss: 0.554463\n",
      "Train Epoch: 1 [25600/60000 (43%)]\tLoss: 0.497243\n",
      "Train Epoch: 1 [26880/60000 (45%)]\tLoss: 0.530656\n",
      "Train Epoch: 1 [28160/60000 (47%)]\tLoss: 0.450828\n",
      "Train Epoch: 1 [29440/60000 (49%)]\tLoss: 0.402591\n",
      "Train Epoch: 1 [30720/60000 (51%)]\tLoss: 0.390377\n",
      "Train Epoch: 1 [32000/60000 (53%)]\tLoss: 0.464993\n",
      "Train Epoch: 1 [33280/60000 (55%)]\tLoss: 0.475252\n",
      "Train Epoch: 1 [34560/60000 (58%)]\tLoss: 0.445848\n",
      "Train Epoch: 1 [35840/60000 (60%)]\tLoss: 0.449794\n",
      "Train Epoch: 1 [37120/60000 (62%)]\tLoss: 0.671350\n",
      "Train Epoch: 1 [38400/60000 (64%)]\tLoss: 0.615101\n",
      "Train Epoch: 1 [39680/60000 (66%)]\tLoss: 0.433656\n",
      "Train Epoch: 1 [40960/60000 (68%)]\tLoss: 0.550942\n",
      "Train Epoch: 1 [42240/60000 (70%)]\tLoss: 0.432799\n",
      "Train Epoch: 1 [43520/60000 (72%)]\tLoss: 0.369505\n",
      "Train Epoch: 1 [44800/60000 (75%)]\tLoss: 0.447945\n",
      "Train Epoch: 1 [46080/60000 (77%)]\tLoss: 0.343435\n",
      "Train Epoch: 1 [47360/60000 (79%)]\tLoss: 0.473397\n",
      "Train Epoch: 1 [48640/60000 (81%)]\tLoss: 0.403085\n",
      "Train Epoch: 1 [49920/60000 (83%)]\tLoss: 0.511633\n",
      "Train Epoch: 1 [51200/60000 (85%)]\tLoss: 0.269148\n",
      "Train Epoch: 1 [52480/60000 (87%)]\tLoss: 0.328801\n",
      "Train Epoch: 1 [53760/60000 (90%)]\tLoss: 0.310763\n",
      "Train Epoch: 1 [55040/60000 (92%)]\tLoss: 0.349325\n",
      "Train Epoch: 1 [56320/60000 (94%)]\tLoss: 0.557073\n",
      "Train Epoch: 1 [57600/60000 (96%)]\tLoss: 0.369045\n",
      "Train Epoch: 1 [58880/60000 (98%)]\tLoss: 0.354299\n",
      "\n",
      "Test set: Avg. loss: 0.3641, Accuracy: 8865/10000 (89%)\n",
      "\n",
      "Train Epoch: 2 [0/60000 (0%)]\tLoss: 0.488580\n",
      "Train Epoch: 2 [1280/60000 (2%)]\tLoss: 0.371804\n",
      "Train Epoch: 2 [2560/60000 (4%)]\tLoss: 0.247250\n",
      "Train Epoch: 2 [3840/60000 (6%)]\tLoss: 0.431124\n",
      "Train Epoch: 2 [5120/60000 (9%)]\tLoss: 0.309301\n",
      "Train Epoch: 2 [6400/60000 (11%)]\tLoss: 0.447203\n",
      "Train Epoch: 2 [7680/60000 (13%)]\tLoss: 0.352387\n",
      "Train Epoch: 2 [8960/60000 (15%)]\tLoss: 0.533566\n",
      "Train Epoch: 2 [10240/60000 (17%)]\tLoss: 0.346620\n",
      "Train Epoch: 2 [11520/60000 (19%)]\tLoss: 0.327832\n",
      "Train Epoch: 2 [12800/60000 (21%)]\tLoss: 0.401423\n",
      "Train Epoch: 2 [14080/60000 (23%)]\tLoss: 0.309678\n",
      "Train Epoch: 2 [15360/60000 (26%)]\tLoss: 0.513204\n",
      "Train Epoch: 2 [16640/60000 (28%)]\tLoss: 0.475613\n",
      "Train Epoch: 2 [17920/60000 (30%)]\tLoss: 0.441707\n",
      "Train Epoch: 2 [19200/60000 (32%)]\tLoss: 0.583012\n",
      "Train Epoch: 2 [20480/60000 (34%)]\tLoss: 0.326421\n",
      "Train Epoch: 2 [21760/60000 (36%)]\tLoss: 0.292421\n",
      "Train Epoch: 2 [23040/60000 (38%)]\tLoss: 0.292956\n",
      "Train Epoch: 2 [24320/60000 (41%)]\tLoss: 0.416556\n",
      "Train Epoch: 2 [25600/60000 (43%)]\tLoss: 0.463032\n",
      "Train Epoch: 2 [26880/60000 (45%)]\tLoss: 0.278803\n",
      "Train Epoch: 2 [28160/60000 (47%)]\tLoss: 0.312770\n",
      "Train Epoch: 2 [29440/60000 (49%)]\tLoss: 0.204623\n",
      "Train Epoch: 2 [30720/60000 (51%)]\tLoss: 0.227534\n",
      "Train Epoch: 2 [32000/60000 (53%)]\tLoss: 0.350448\n",
      "Train Epoch: 2 [33280/60000 (55%)]\tLoss: 0.295244\n",
      "Train Epoch: 2 [34560/60000 (58%)]\tLoss: 0.349276\n",
      "Train Epoch: 2 [35840/60000 (60%)]\tLoss: 0.362445\n",
      "Train Epoch: 2 [37120/60000 (62%)]\tLoss: 0.465317\n",
      "Train Epoch: 2 [38400/60000 (64%)]\tLoss: 0.496997\n",
      "Train Epoch: 2 [39680/60000 (66%)]\tLoss: 0.349343\n",
      "Train Epoch: 2 [40960/60000 (68%)]\tLoss: 0.450555\n",
      "Train Epoch: 2 [42240/60000 (70%)]\tLoss: 0.311984\n",
      "Train Epoch: 2 [43520/60000 (72%)]\tLoss: 0.431758\n",
      "Train Epoch: 2 [44800/60000 (75%)]\tLoss: 0.425016\n",
      "Train Epoch: 2 [46080/60000 (77%)]\tLoss: 0.303263\n",
      "Train Epoch: 2 [47360/60000 (79%)]\tLoss: 0.227291\n",
      "Train Epoch: 2 [48640/60000 (81%)]\tLoss: 0.250887\n",
      "Train Epoch: 2 [49920/60000 (83%)]\tLoss: 0.240598\n",
      "Train Epoch: 2 [51200/60000 (85%)]\tLoss: 0.417501\n",
      "Train Epoch: 2 [52480/60000 (87%)]\tLoss: 0.328717\n",
      "Train Epoch: 2 [53760/60000 (90%)]\tLoss: 0.319253\n",
      "Train Epoch: 2 [55040/60000 (92%)]\tLoss: 0.308806\n",
      "Train Epoch: 2 [56320/60000 (94%)]\tLoss: 0.220369\n",
      "Train Epoch: 2 [57600/60000 (96%)]\tLoss: 0.343261\n",
      "Train Epoch: 2 [58880/60000 (98%)]\tLoss: 0.263934\n",
      "\n",
      "Test set: Avg. loss: 0.3068, Accuracy: 9026/10000 (90%)\n",
      "\n",
      "Train Epoch: 3 [0/60000 (0%)]\tLoss: 0.335964\n",
      "Train Epoch: 3 [1280/60000 (2%)]\tLoss: 0.227909\n",
      "Train Epoch: 3 [2560/60000 (4%)]\tLoss: 0.421442\n",
      "Train Epoch: 3 [3840/60000 (6%)]\tLoss: 0.257069\n",
      "Train Epoch: 3 [5120/60000 (9%)]\tLoss: 0.243816\n",
      "Train Epoch: 3 [6400/60000 (11%)]\tLoss: 0.323363\n",
      "Train Epoch: 3 [7680/60000 (13%)]\tLoss: 0.445595\n",
      "Train Epoch: 3 [8960/60000 (15%)]\tLoss: 0.325656\n",
      "Train Epoch: 3 [10240/60000 (17%)]\tLoss: 0.219567\n",
      "Train Epoch: 3 [11520/60000 (19%)]\tLoss: 0.324165\n",
      "Train Epoch: 3 [12800/60000 (21%)]\tLoss: 0.375607\n",
      "Train Epoch: 3 [14080/60000 (23%)]\tLoss: 0.314941\n",
      "Train Epoch: 3 [15360/60000 (26%)]\tLoss: 0.224432\n",
      "Train Epoch: 3 [16640/60000 (28%)]\tLoss: 0.310076\n",
      "Train Epoch: 3 [17920/60000 (30%)]\tLoss: 0.301428\n",
      "Train Epoch: 3 [19200/60000 (32%)]\tLoss: 0.393566\n",
      "Train Epoch: 3 [20480/60000 (34%)]\tLoss: 0.238405\n",
      "Train Epoch: 3 [21760/60000 (36%)]\tLoss: 0.380452\n",
      "Train Epoch: 3 [23040/60000 (38%)]\tLoss: 0.403616\n",
      "Train Epoch: 3 [24320/60000 (41%)]\tLoss: 0.367029\n",
      "Train Epoch: 3 [25600/60000 (43%)]\tLoss: 0.236098\n",
      "Train Epoch: 3 [26880/60000 (45%)]\tLoss: 0.287176\n",
      "Train Epoch: 3 [28160/60000 (47%)]\tLoss: 0.305771\n",
      "Train Epoch: 3 [29440/60000 (49%)]\tLoss: 0.222835\n",
      "Train Epoch: 3 [30720/60000 (51%)]\tLoss: 0.297830\n",
      "Train Epoch: 3 [32000/60000 (53%)]\tLoss: 0.255492\n",
      "Train Epoch: 3 [33280/60000 (55%)]\tLoss: 0.386313\n",
      "Train Epoch: 3 [34560/60000 (58%)]\tLoss: 0.283104\n",
      "Train Epoch: 3 [35840/60000 (60%)]\tLoss: 0.454439\n",
      "Train Epoch: 3 [37120/60000 (62%)]\tLoss: 0.311584\n",
      "Train Epoch: 3 [38400/60000 (64%)]\tLoss: 0.303687\n",
      "Train Epoch: 3 [39680/60000 (66%)]\tLoss: 0.308434\n",
      "Train Epoch: 3 [40960/60000 (68%)]\tLoss: 0.315023\n",
      "Train Epoch: 3 [42240/60000 (70%)]\tLoss: 0.242586\n",
      "Train Epoch: 3 [43520/60000 (72%)]\tLoss: 0.219359\n",
      "Train Epoch: 3 [44800/60000 (75%)]\tLoss: 0.222123\n",
      "Train Epoch: 3 [46080/60000 (77%)]\tLoss: 0.399815\n",
      "Train Epoch: 3 [47360/60000 (79%)]\tLoss: 0.190894\n",
      "Train Epoch: 3 [48640/60000 (81%)]\tLoss: 0.268362\n",
      "Train Epoch: 3 [49920/60000 (83%)]\tLoss: 0.324735\n",
      "Train Epoch: 3 [51200/60000 (85%)]\tLoss: 0.390663\n",
      "Train Epoch: 3 [52480/60000 (87%)]\tLoss: 0.334936\n",
      "Train Epoch: 3 [53760/60000 (90%)]\tLoss: 0.166462\n",
      "Train Epoch: 3 [55040/60000 (92%)]\tLoss: 0.324384\n",
      "Train Epoch: 3 [56320/60000 (94%)]\tLoss: 0.267490\n",
      "Train Epoch: 3 [57600/60000 (96%)]\tLoss: 0.244134\n",
      "Train Epoch: 3 [58880/60000 (98%)]\tLoss: 0.442799\n",
      "\n",
      "Test set: Avg. loss: 0.2980, Accuracy: 9083/10000 (91%)\n",
      "\n",
      "Train Epoch: 4 [0/60000 (0%)]\tLoss: 0.379424\n",
      "Train Epoch: 4 [1280/60000 (2%)]\tLoss: 0.152909\n",
      "Train Epoch: 4 [2560/60000 (4%)]\tLoss: 0.321226\n",
      "Train Epoch: 4 [3840/60000 (6%)]\tLoss: 0.310901\n",
      "Train Epoch: 4 [5120/60000 (9%)]\tLoss: 0.340326\n",
      "Train Epoch: 4 [6400/60000 (11%)]\tLoss: 0.239570\n",
      "Train Epoch: 4 [7680/60000 (13%)]\tLoss: 0.485150\n",
      "Train Epoch: 4 [8960/60000 (15%)]\tLoss: 0.359266\n",
      "Train Epoch: 4 [10240/60000 (17%)]\tLoss: 0.198731\n",
      "Train Epoch: 4 [11520/60000 (19%)]\tLoss: 0.421588\n",
      "Train Epoch: 4 [12800/60000 (21%)]\tLoss: 0.278752\n",
      "Train Epoch: 4 [14080/60000 (23%)]\tLoss: 0.314066\n",
      "Train Epoch: 4 [15360/60000 (26%)]\tLoss: 0.173369\n",
      "Train Epoch: 4 [16640/60000 (28%)]\tLoss: 0.258875\n",
      "Train Epoch: 4 [17920/60000 (30%)]\tLoss: 0.261428\n",
      "Train Epoch: 4 [19200/60000 (32%)]\tLoss: 0.329715\n",
      "Train Epoch: 4 [20480/60000 (34%)]\tLoss: 0.222051\n",
      "Train Epoch: 4 [21760/60000 (36%)]\tLoss: 0.404113\n",
      "Train Epoch: 4 [23040/60000 (38%)]\tLoss: 0.278419\n",
      "Train Epoch: 4 [24320/60000 (41%)]\tLoss: 0.199785\n",
      "Train Epoch: 4 [25600/60000 (43%)]\tLoss: 0.153910\n"
     ]
    },
    {
     "name": "stdout",
     "output_type": "stream",
     "text": [
      "Train Epoch: 4 [26880/60000 (45%)]\tLoss: 0.303733\n",
      "Train Epoch: 4 [28160/60000 (47%)]\tLoss: 0.380111\n",
      "Train Epoch: 4 [29440/60000 (49%)]\tLoss: 0.231685\n",
      "Train Epoch: 4 [30720/60000 (51%)]\tLoss: 0.317326\n",
      "Train Epoch: 4 [32000/60000 (53%)]\tLoss: 0.267623\n",
      "Train Epoch: 4 [33280/60000 (55%)]\tLoss: 0.232556\n",
      "Train Epoch: 4 [34560/60000 (58%)]\tLoss: 0.192909\n",
      "Train Epoch: 4 [35840/60000 (60%)]\tLoss: 0.256267\n",
      "Train Epoch: 4 [37120/60000 (62%)]\tLoss: 0.263079\n",
      "Train Epoch: 4 [38400/60000 (64%)]\tLoss: 0.194494\n",
      "Train Epoch: 4 [39680/60000 (66%)]\tLoss: 0.439286\n",
      "Train Epoch: 4 [40960/60000 (68%)]\tLoss: 0.344878\n",
      "Train Epoch: 4 [42240/60000 (70%)]\tLoss: 0.179493\n",
      "Train Epoch: 4 [43520/60000 (72%)]\tLoss: 0.345514\n",
      "Train Epoch: 4 [44800/60000 (75%)]\tLoss: 0.225892\n",
      "Train Epoch: 4 [46080/60000 (77%)]\tLoss: 0.142262\n",
      "Train Epoch: 4 [47360/60000 (79%)]\tLoss: 0.224535\n",
      "Train Epoch: 4 [48640/60000 (81%)]\tLoss: 0.108145\n",
      "Train Epoch: 4 [49920/60000 (83%)]\tLoss: 0.220127\n",
      "Train Epoch: 4 [51200/60000 (85%)]\tLoss: 0.143475\n",
      "Train Epoch: 4 [52480/60000 (87%)]\tLoss: 0.303514\n",
      "Train Epoch: 4 [53760/60000 (90%)]\tLoss: 0.274673\n",
      "Train Epoch: 4 [55040/60000 (92%)]\tLoss: 0.230717\n",
      "Train Epoch: 4 [56320/60000 (94%)]\tLoss: 0.367099\n",
      "Train Epoch: 4 [57600/60000 (96%)]\tLoss: 0.216152\n",
      "Train Epoch: 4 [58880/60000 (98%)]\tLoss: 0.246310\n",
      "\n",
      "Test set: Avg. loss: 0.2563, Accuracy: 9206/10000 (92%)\n",
      "\n"
     ]
    }
   ],
   "source": [
    "data_name = \"MNIST\"\n",
    "batch_size_train= 128\n",
    "batch_size_test= 2000\n",
    "\n",
    "training_set, testing_set, train_loader, test_loader, _, _, _, _ = load_data(data_name=data_name,\n",
    "                                                                              batch_size_train=batch_size_train, \n",
    "                                                                              batch_size_test = batch_size_test,\n",
    "                                                                              normalize=False)\n",
    "\n",
    "# Set the parameters\n",
    "N=training_set.data.size()[0]\n",
    "n_in=training_set.data.size()[1]\n",
    "n_out=10\n",
    "layer_sizes=[256,256]\n",
    "dropout_rate= 0.5 \n",
    "tau=0.1\n",
    "l=1e-2\n",
    "lbda = l**2 * (1 - dropout_rate) / (2. * N * tau)\n",
    "\n",
    "# Create the network\n",
    "network = Net(N=N,\n",
    "              n_in=n_in,\n",
    "              n_out=n_out,\n",
    "              layer_sizes=layer_sizes,\n",
    "              dropout_rate=dropout_rate,\n",
    "              tau=tau).float()\n",
    "\n",
    "# Type of the problem\n",
    "problem=\"classification\"\n",
    "\n",
    "# Training parameters\n",
    "n_epochs = 4\n",
    "learning_rate = 1e-3\n",
    "momentum = 0.5\n",
    "\n",
    "optimizer = optim.Adam(network.parameters(), \n",
    "                      lr=learning_rate,\n",
    "                      weight_decay=lbda)\n",
    "\n",
    "train_losses = []\n",
    "train_counter = []\n",
    "test_losses = []\n",
    "test_counter = [i*len(train_loader.dataset) for i in range(n_epochs + 1)]\n",
    "\n",
    "for epoch in range(1, n_epochs + 1):\n",
    "    train(network,epoch,aff=True)\n",
    "    test(network,aff=True)"
   ]
  },
  {
   "cell_type": "markdown",
   "metadata": {},
   "source": [
    "Once the model is trained (for the experiment an accuracy of 92% is enough), we set of testing data for which the results of the predictor are correct and incorrect in order to see how the variance evolves and therefore to see if we can quantify the confidence of the classifier. To do so, each data chosen is fed to the classifier $T=100$ times. We collect the result of the $T$ forward passes and plot the probability distribution generated by the classifiers:"
   ]
  },
  {
   "cell_type": "code",
   "execution_count": 89,
   "metadata": {},
   "outputs": [
    {
     "name": "stdout",
     "output_type": "stream",
     "text": [
      "[0, 17, 26, 684, 689, 771, 846, 1500, 3808]\n"
     ]
    }
   ],
   "source": [
    "# Find the indices of data labelled 7\n",
    "indices_7=[]\n",
    "\n",
    "for i in range(testing_set.targets.numpy().shape[0]):\n",
    "    if int(testing_set.targets[i].numpy())==7:\n",
    "        indices_7.append(i)\n",
    "\n",
    "\n",
    "# We keep 3 data for which the networks predicted 7, 3 and 9\n",
    "# (3 and 9 because they are the most common mistakes)\n",
    "\n",
    "data_kept=[]\n",
    "preds=[]\n",
    "cpt_7=0\n",
    "cpt_3=0\n",
    "cpt_9=0\n",
    "        \n",
    "for i in indices_7:\n",
    "    if cpt_9<3 or cpt_7<3 or cpt_3<3:\n",
    "        res=[0]*10\n",
    "        for _ in range(100):\n",
    "            pred=int(network(testing_set.data[i].float()).argmax().numpy())\n",
    "            res[pred]+=1\n",
    "\n",
    "        pred=np.argmax(res)\n",
    "\n",
    "        if pred==7 and cpt_7<3:\n",
    "            data_kept.append(i)\n",
    "            preds.append(pred)\n",
    "            cpt_7+=1\n",
    "        if pred==3 and cpt_3<3:\n",
    "            data_kept.append(i)\n",
    "            preds.append(pred)\n",
    "            cpt_3+=1\n",
    "        if pred==9 and cpt_9<3:\n",
    "            data_kept.append(i)\n",
    "            preds.append(pred)\n",
    "            cpt_9+=1\n",
    "\n",
    "print(data_kept)"
   ]
  },
  {
   "cell_type": "markdown",
   "metadata": {},
   "source": [
    "The data chosen are:"
   ]
  },
  {
   "cell_type": "code",
   "execution_count": 90,
   "metadata": {},
   "outputs": [
    {
     "data": {
      "image/png": "[encoded data removed]",
      "text/plain": [
       "<Figure size 432x288 with 9 Axes>"
      ]
     },
     "execution_count": 90,
     "metadata": {},
     "output_type": "execute_result"
    },
    {
     "data": {
      "image/png": "[encoded data removed]",
      "text/plain": [
       "<Figure size 432x288 with 9 Axes>"
      ]
     },
     "metadata": {},
     "output_type": "display_data"
    }
   ],
   "source": [
    "fig = plt.figure()\n",
    "for j,ind in enumerate(data_kept):\n",
    "    plt.subplot(3,3,j+1)\n",
    "    plt.tight_layout()\n",
    "    plt.imshow(testing_set.data[ind].reshape(28,28), cmap='gray', interpolation='none')\n",
    "    plt.title(\"The prediction is: {}\".format(preds[j]))\n",
    "    plt.xticks([])\n",
    "    plt.yticks([])\n",
    "fig"
   ]
  },
  {
   "cell_type": "markdown",
   "metadata": {},
   "source": [
    "Now let's store and plot the probabilities output by the network:"
   ]
  },
  {
   "cell_type": "code",
   "execution_count": 91,
   "metadata": {},
   "outputs": [
    {
     "name": "stdout",
     "output_type": "stream",
     "text": [
      "(9, 100, 10)\n"
     ]
    }
   ],
   "source": [
    "T=100\n",
    "probs=np.zeros((1,100,10))\n",
    "\n",
    "for j,ind in enumerate(data_kept):\n",
    "    \n",
    "    int_probs=[]\n",
    "\n",
    "    for _ in range(T):\n",
    "        out=network(testing_set.data[ind].float()).data.numpy()\n",
    "        int_probs.append(out)\n",
    "    \n",
    "    int_probs=np.array(int_probs)\n",
    "    probs=np.concatenate((probs,np.expand_dims(int_probs,axis=0)),axis=0)\n",
    "\n",
    "probs=probs[1:]\n",
    "print(probs.shape)"
   ]
  },
  {
   "cell_type": "code",
   "execution_count": 155,
   "metadata": {
    "scrolled": true
   },
   "outputs": [
    {
     "data": {
      "image/png": "[encoded data removed]",
      "text/plain": [
       "<Figure size 432x288 with 1 Axes>"
      ]
     },
     "metadata": {
      "needs_background": "light"
     },
     "output_type": "display_data"
    },
    {
     "name": "stdout",
     "output_type": "stream",
     "text": [
      "Mean of 7 is -0.44568359375\n",
      "Std of 7 is 4.434495767057806\n",
      "Mean of 3 is -720.1932424926758\n",
      "Std of 3 is 318.4453827162472\n",
      "Mean of 9 is -1105.6463952636718\n",
      "Std of 9 is 354.6795480259494\n"
     ]
    },
    {
     "data": {
      "image/png": "[encoded data removed]",
      "text/plain": [
       "<Figure size 432x288 with 1 Axes>"
      ]
     },
     "metadata": {
      "needs_background": "light"
     },
     "output_type": "display_data"
    },
    {
     "data": {
      "image/png": "[encoded data removed]",
      "text/plain": [
       "<Figure size 432x288 with 1 Axes>"
      ]
     },
     "metadata": {
      "needs_background": "light"
     },
     "output_type": "display_data"
    },
    {
     "name": "stdout",
     "output_type": "stream",
     "text": [
      "Mean of 7 is -4.2052734386920925\n",
      "Std of 7 is 25.512851684274246\n",
      "Mean of 3 is -695.2705865478515\n",
      "Std of 3 is 361.10889875760984\n",
      "Mean of 9 is -1208.604503173828\n",
      "Std of 9 is 445.09137497943135\n"
     ]
    },
    {
     "data": {
      "image/png": "[encoded data removed]",
      "text/plain": [
       "<Figure size 432x288 with 1 Axes>"
      ]
     },
     "metadata": {
      "needs_background": "light"
     },
     "output_type": "display_data"
    },
    {
     "data": {
      "image/png": "[encoded data removed]",
      "text/plain": [
       "<Figure size 432x288 with 1 Axes>"
      ]
     },
     "metadata": {
      "needs_background": "light"
     },
     "output_type": "display_data"
    },
    {
     "name": "stdout",
     "output_type": "stream",
     "text": [
      "Mean of 7 is -2.809793553351119\n",
      "Std of 7 is 19.355549659606535\n",
      "Mean of 3 is -712.5278707885742\n",
      "Std of 3 is 306.2730442504503\n",
      "Mean of 9 is -541.7845683300495\n",
      "Std of 9 is 308.52398043559987\n"
     ]
    },
    {
     "data": {
      "image/png": "[encoded data removed]",
      "text/plain": [
       "<Figure size 432x288 with 1 Axes>"
      ]
     },
     "metadata": {
      "needs_background": "light"
     },
     "output_type": "display_data"
    },
    {
     "data": {
      "image/png": "[encoded data removed]",
      "text/plain": [
       "<Figure size 432x288 with 1 Axes>"
      ]
     },
     "metadata": {
      "needs_background": "light"
     },
     "output_type": "display_data"
    },
    {
     "name": "stdout",
     "output_type": "stream",
     "text": [
      "Mean of 7 is -166.3182216419232\n",
      "Std of 7 is 169.32380066920646\n",
      "Mean of 3 is -91.07987977687156\n",
      "Std of 3 is 145.74482289908983\n",
      "Mean of 9 is -581.2104155158996\n",
      "Std of 9 is 342.2042900103587\n"
     ]
    },
    {
     "data": {
      "image/png": "[encoded data removed]",
      "text/plain": [
       "<Figure size 432x288 with 1 Axes>"
      ]
     },
     "metadata": {
      "needs_background": "light"
     },
     "output_type": "display_data"
    },
    {
     "data": {
      "image/png": "[encoded data removed]",
      "text/plain": [
       "<Figure size 432x288 with 1 Axes>"
      ]
     },
     "metadata": {
      "needs_background": "light"
     },
     "output_type": "display_data"
    },
    {
     "name": "stdout",
     "output_type": "stream",
     "text": [
      "Mean of 7 is -72.09919009065976\n",
      "Std of 7 is 91.52230491865006\n",
      "Mean of 3 is -356.105879573822\n",
      "Std of 3 is 184.11326485868787\n",
      "Mean of 9 is -45.420031105279925\n",
      "Std of 9 is 67.46896851745672\n"
     ]
    },
    {
     "data": {
      "image/png": "[encoded data removed]",
      "text/plain": [
       "<Figure size 432x288 with 1 Axes>"
      ]
     },
     "metadata": {
      "needs_background": "light"
     },
     "output_type": "display_data"
    },
    {
     "data": {
      "image/png": "[encoded data removed]",
      "text/plain": [
       "<Figure size 432x288 with 1 Axes>"
      ]
     },
     "metadata": {
      "needs_background": "light"
     },
     "output_type": "display_data"
    },
    {
     "name": "stdout",
     "output_type": "stream",
     "text": [
      "Mean of 7 is -100.91898806405952\n",
      "Std of 7 is 172.5474467640916\n",
      "Mean of 3 is -881.5026739501953\n",
      "Std of 3 is 367.1096967344374\n",
      "Mean of 9 is -153.66445498466493\n",
      "Std of 9 is 203.06371488324126\n"
     ]
    },
    {
     "data": {
      "image/png": "[encoded data removed]",
      "text/plain": [
       "<Figure size 432x288 with 1 Axes>"
      ]
     },
     "metadata": {
      "needs_background": "light"
     },
     "output_type": "display_data"
    },
    {
     "data": {
      "image/png": "[encoded data removed]",
      "text/plain": [
       "<Figure size 432x288 with 1 Axes>"
      ]
     },
     "metadata": {
      "needs_background": "light"
     },
     "output_type": "display_data"
    },
    {
     "name": "stdout",
     "output_type": "stream",
     "text": [
      "Mean of 7 is -176.15139235257936\n",
      "Std of 7 is 178.0022079465066\n",
      "Mean of 3 is -586.4142552900312\n",
      "Std of 3 is 247.58753344588428\n",
      "Mean of 9 is -93.94848027966891\n",
      "Std of 9 is 153.39824855186825\n"
     ]
    },
    {
     "data": {
      "image/png": "[encoded data removed]",
      "text/plain": [
       "<Figure size 432x288 with 1 Axes>"
      ]
     },
     "metadata": {
      "needs_background": "light"
     },
     "output_type": "display_data"
    },
    {
     "data": {
      "image/png": "[encoded data removed]",
      "text/plain": [
       "<Figure size 432x288 with 1 Axes>"
      ]
     },
     "metadata": {
      "needs_background": "light"
     },
     "output_type": "display_data"
    },
    {
     "name": "stdout",
     "output_type": "stream",
     "text": [
      "Mean of 7 is -388.35697986110273\n",
      "Std of 7 is 261.9527187143238\n",
      "Mean of 3 is -100.0556357061863\n",
      "Std of 3 is 159.0874609993368\n",
      "Mean of 9 is -627.7053552246093\n",
      "Std of 9 is 274.31337576627834\n"
     ]
    },
    {
     "data": {
      "image/png": "[encoded data removed]",
      "text/plain": [
       "<Figure size 432x288 with 1 Axes>"
      ]
     },
     "metadata": {
      "needs_background": "light"
     },
     "output_type": "display_data"
    },
    {
     "data": {
      "image/png": "[encoded data removed]",
      "text/plain": [
       "<Figure size 432x288 with 1 Axes>"
      ]
     },
     "metadata": {
      "needs_background": "light"
     },
     "output_type": "display_data"
    },
    {
     "name": "stdout",
     "output_type": "stream",
     "text": [
      "Mean of 7 is -675.1861260986328\n",
      "Std of 7 is 368.2408146207551\n",
      "Mean of 3 is -56.570047228336335\n",
      "Std of 3 is 120.62636009461663\n",
      "Mean of 9 is -880.9181520080566\n",
      "Std of 9 is 332.14631822603434\n"
     ]
    },
    {
     "data": {
      "image/png": "[encoded data removed]",
      "text/plain": [
       "<Figure size 432x288 with 1 Axes>"
      ]
     },
     "metadata": {
      "needs_background": "light"
     },
     "output_type": "display_data"
    }
   ],
   "source": [
    "for i in range(9):\n",
    "    \n",
    "    plt.imshow(testing_set.data[data_kept[i]].reshape(28,28), cmap='gray', interpolation='none')\n",
    "    plt.title(\"The prediction is: {}\".format(preds[i]))\n",
    "    plt.show()\n",
    "    \n",
    "    print(\"Mean of 7 is {}\".format(np.mean(probs[i,:,7])))\n",
    "    print(\"Std of 7 is {}\".format(np.std(probs[i,:,7])))\n",
    "    print(\"Mean of 3 is {}\".format(np.mean(probs[i,:,3])))\n",
    "    print(\"Std of 3 is {}\".format(np.std(probs[i,:,3])))\n",
    "    print(\"Mean of 9 is {}\".format(np.mean(probs[i,:,9])))\n",
    "    print(\"Std of 9 is {}\".format(np.std(probs[i,:,9])))\n",
    "    \n",
    "    plt.figure()\n",
    "    for j in range(probs[i].shape[0]):\n",
    "        plt.plot([0,0.33],[probs[i,j,7],probs[i,j,7]],c=\"green\")\n",
    "        plt.plot([0.33,0.63],[probs[i,j,3],probs[i,j,3]],c=\"blue\")\n",
    "        plt.plot([0.66,0.96],[probs[i,j,9],probs[i,j,9]],c=\"red\")\n",
    "\n",
    "    plt.show()"
   ]
  },
  {
   "cell_type": "markdown",
   "metadata": {},
   "source": [
    "In summary, we can store the results in the following figure:\n",
    "\n",
    "![title](figures/fig_BML.png)\n",
    "\n",
    "**Comments:**\n",
    "\n",
    "- for this classification study, we choose three cases: the number 7 is predicted 7 (correct prediction), the number 7 is predicted 3 (false prediction), the number 7 is predicted 9 (false prediction) (remark: we chose cases for which the correct or wrong prediction appears with a frequency higher than 50%). For all those cases, we fed the classifier with the input image 100 times and store the probabilities output by the network. Then we plotted the probabilities of 3 classes (3,7,9) because they correspond to the mostly predicted classes. In this study, we want to see whether doing several forward pass (with dropout updates) give us information about the confidence of the prediction.\n",
    "\n",
    "- As we can see, when the prediction is correct (3 first cases), the score obtained by the class 7 (green lines) is always very high and the variance of the values obtained is small (mentionned under the data image). On the contrary, when the networks is predicting the wrong class (6 other cases), we see that the standard deviation of the predicted class is very high and therefore we cannot be confident with the result. Moreover, we see that the \"confidence interval\" of this class overlap the \"confidence intervals\" of the other classes.\n",
    "\n",
    "- In conclusion, for a classification task, we see that using the dropout Network allows us to get some information about the confidence of the network. For a wrong prediction, even though the score output is high, by doing several forward passes, we see that we can estimate a kind of confidence interval."
   ]
  },
  {
   "cell_type": "markdown",
   "metadata": {},
   "source": [
    "# Part 4: Additional experiments "
   ]
  },
  {
   "cell_type": "markdown",
   "metadata": {},
   "source": [
    "## About the running time"
   ]
  },
  {
   "cell_type": "code",
   "execution_count": 167,
   "metadata": {},
   "outputs": [
    {
     "name": "stdout",
     "output_type": "stream",
     "text": [
      "It took 0.2845420837402344s to the Dropout network to predict\n"
     ]
    }
   ],
   "source": [
    "from time import time\n",
    "\n",
    "network.train()\n",
    "with torch.no_grad():\n",
    "    deb=time()\n",
    "    network(testing_set.data.float())\n",
    "    print(\"It took {}s to the Dropout network to predict\".format(time()-deb))"
   ]
  },
  {
   "cell_type": "code",
   "execution_count": 166,
   "metadata": {
    "scrolled": true
   },
   "outputs": [
    {
     "name": "stdout",
     "output_type": "stream",
     "text": [
      "It took 0.17604303359985352s to the network without Dropout to predict\n"
     ]
    }
   ],
   "source": [
    "deb=time()\n",
    "network.eval()\n",
    "network(testing_set.data.float())\n",
    "print(\"It took {}s to the network without Dropout to predict\".format(time()-deb))"
   ]
  }
 ],
 "metadata": {
  "kernelspec": {
   "display_name": "Python 3",
   "language": "python",
   "name": "python3"
  },
  "language_info": {
   "codemirror_mode": {
    "name": "ipython",
    "version": 3
   },
   "file_extension": ".py",
   "mimetype": "text/x-python",
   "name": "python",
   "nbconvert_exporter": "python",
   "pygments_lexer": "ipython3",
   "version": "3.7.3"
  }
 },
 "nbformat": 4,
 "nbformat_minor": 2
}
